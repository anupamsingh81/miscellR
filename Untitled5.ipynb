{
 "cells": [
  {
   "cell_type": "code",
   "execution_count": 2,
   "metadata": {
    "collapsed": false
   },
   "outputs": [
    {
     "data": {
      "image/png": "[encoded data removed]",
      "image/svg+xml": [
       "<?xml version=\"1.0\" encoding=\"UTF-8\"?>\n",
       "<svg xmlns=\"http://www.w3.org/2000/svg\" xmlns:xlink=\"http://www.w3.org/1999/xlink\" width=\"504pt\" height=\"504pt\" viewBox=\"0 0 504 504\" version=\"1.1\">\n",
       "<defs>\n",
       "<g>\n",
       "<symbol overflow=\"visible\" id=\"glyph0-0\">\n",
       "<path style=\"stroke:none;\" d=\"\"/>\n",
       "</symbol>\n",
       "<symbol overflow=\"visible\" id=\"glyph0-1\">\n",
       "<path style=\"stroke:none;\" d=\"M 6.265625 -6.140625 C 6.265625 -7.578125 5.015625 -8.765625 3.40625 -8.765625 C 1.671875 -8.765625 0.515625 -7.75 0.453125 -5.5625 L 1.78125 -5.5625 C 1.875 -7.109375 2.328125 -7.578125 3.375 -7.578125 C 4.328125 -7.578125 4.90625 -7.03125 4.90625 -6.125 C 4.90625 -5.453125 4.546875 -4.96875 3.796875 -4.53125 L 2.6875 -3.90625 C 0.90625 -2.90625 0.359375 -2 0.25 0 L 6.203125 0 L 6.203125 -1.3125 L 1.75 -1.3125 C 1.84375 -1.875 2.1875 -2.21875 3.234375 -2.828125 L 4.421875 -3.484375 C 5.609375 -4.109375 6.265625 -5.09375 6.265625 -6.140625 Z M 6.265625 -6.140625 \"/>\n",
       "</symbol>\n",
       "<symbol overflow=\"visible\" id=\"glyph0-2\">\n",
       "<path style=\"stroke:none;\" d=\"M 6.375 -2.171875 L 6.375 -3.25 L 5.109375 -3.25 L 5.109375 -8.765625 L 4.125 -8.765625 L 0.1875 -3.328125 L 0.1875 -2.046875 L 3.78125 -2.046875 L 3.78125 0 L 5.109375 0 L 5.109375 -2.046875 L 6.375 -2.046875 Z M 3.921875 -3.25 L 1.515625 -3.25 L 4.015625 -6.75 L 3.78125 -6.84375 L 3.78125 -3.25 Z M 3.921875 -3.25 \"/>\n",
       "</symbol>\n",
       "<symbol overflow=\"visible\" id=\"glyph0-3\">\n",
       "<path style=\"stroke:none;\" d=\"M 6.28125 -2.765625 C 6.28125 -4.359375 5.078125 -5.5625 3.546875 -5.5625 C 2.71875 -5.5625 1.9375 -5.203125 1.484375 -4.578125 L 1.734375 -4.46875 C 1.734375 -6.546875 2.28125 -7.578125 3.484375 -7.578125 C 4.234375 -7.578125 4.609375 -7.234375 4.796875 -6.28125 L 6.125 -6.28125 C 5.90625 -7.8125 4.859375 -8.765625 3.5625 -8.765625 C 1.578125 -8.765625 0.375 -6.96875 0.375 -4.015625 C 0.375 -1.359375 1.421875 0.1875 3.375 0.1875 C 4.984375 0.1875 6.28125 -1.109375 6.28125 -2.765625 Z M 4.9375 -2.6875 C 4.9375 -1.625 4.359375 -1.015625 3.390625 -1.015625 C 2.40625 -1.015625 1.78125 -1.65625 1.78125 -2.75 C 1.78125 -3.796875 2.375 -4.359375 3.421875 -4.359375 C 4.4375 -4.359375 4.9375 -3.828125 4.9375 -2.6875 Z M 4.9375 -2.6875 \"/>\n",
       "</symbol>\n",
       "<symbol overflow=\"visible\" id=\"glyph0-4\">\n",
       "<path style=\"stroke:none;\" d=\"M 6.28125 -2.53125 C 6.28125 -3.484375 5.671875 -4.265625 4.953125 -4.625 C 5.65625 -5.046875 5.984375 -5.5625 5.984375 -6.375 C 5.984375 -7.703125 4.8125 -8.765625 3.296875 -8.765625 C 1.796875 -8.765625 0.59375 -7.703125 0.59375 -6.375 C 0.59375 -5.578125 0.921875 -5.046875 1.625 -4.625 C 0.921875 -4.265625 0.296875 -3.484375 0.296875 -2.546875 C 0.296875 -0.984375 1.625 0.1875 3.296875 0.1875 C 4.984375 0.1875 6.28125 -0.984375 6.28125 -2.53125 Z M 4.625 -6.34375 C 4.625 -5.5625 4.1875 -5.15625 3.296875 -5.15625 C 2.40625 -5.15625 1.953125 -5.5625 1.953125 -6.359375 C 1.953125 -7.171875 2.40625 -7.578125 3.296875 -7.578125 C 4.203125 -7.578125 4.625 -7.171875 4.625 -6.34375 Z M 4.9375 -2.515625 C 4.9375 -1.515625 4.359375 -1.015625 3.28125 -1.015625 C 2.25 -1.015625 1.65625 -1.53125 1.65625 -2.515625 C 1.65625 -3.515625 2.25 -4.015625 3.296875 -4.015625 C 4.359375 -4.015625 4.9375 -3.515625 4.9375 -2.515625 Z M 4.9375 -2.515625 \"/>\n",
       "</symbol>\n",
       "<symbol overflow=\"visible\" id=\"glyph0-5\">\n",
       "<path style=\"stroke:none;\" d=\"M 4.296875 -0.125 L 4.296875 -8.765625 L 3.359375 -8.765625 C 2.953125 -7.328125 2.859375 -7.28125 1.078125 -7.0625 L 1.078125 -6.0625 L 2.96875 -6.0625 L 2.96875 0 L 4.296875 0 Z M 4.296875 -0.125 \"/>\n",
       "</symbol>\n",
       "<symbol overflow=\"visible\" id=\"glyph0-6\">\n",
       "<path style=\"stroke:none;\" d=\"M 6.21875 -4.21875 C 6.21875 -7.171875 5.140625 -8.765625 3.296875 -8.765625 C 1.46875 -8.765625 0.375 -7.15625 0.375 -4.296875 C 0.375 -1.421875 1.46875 0.1875 3.296875 0.1875 C 5.09375 0.1875 6.21875 -1.421875 6.21875 -4.21875 Z M 4.859375 -4.3125 C 4.859375 -1.90625 4.453125 -0.953125 3.28125 -0.953125 C 2.15625 -0.953125 1.734375 -1.953125 1.734375 -4.28125 C 1.734375 -6.609375 2.15625 -7.578125 3.296875 -7.578125 C 4.4375 -7.578125 4.859375 -6.59375 4.859375 -4.3125 Z M 4.859375 -4.3125 \"/>\n",
       "</symbol>\n",
       "<symbol overflow=\"visible\" id=\"glyph0-7\">\n",
       "<path style=\"stroke:none;\" d=\"M 5.765625 -0.234375 L 3.65625 -3.390625 L 5.875 -6.546875 L 4.421875 -6.546875 L 2.96875 -4.375 L 1.53125 -6.546875 L 0.0625 -6.546875 L 2.25 -3.34375 L -0.0625 0 L 1.40625 0 L 2.921875 -2.296875 L 4.4375 0 L 5.921875 0 Z M 5.765625 -0.234375 \"/>\n",
       "</symbol>\n",
       "<symbol overflow=\"visible\" id=\"glyph1-0\">\n",
       "<path style=\"stroke:none;\" d=\"\"/>\n",
       "</symbol>\n",
       "<symbol overflow=\"visible\" id=\"glyph1-1\">\n",
       "<path style=\"stroke:none;\" d=\"M -6.140625 -6.265625 C -7.578125 -6.265625 -8.765625 -5.015625 -8.765625 -3.40625 C -8.765625 -1.671875 -7.75 -0.515625 -5.5625 -0.453125 L -5.5625 -1.78125 C -7.109375 -1.875 -7.578125 -2.328125 -7.578125 -3.375 C -7.578125 -4.328125 -7.03125 -4.90625 -6.125 -4.90625 C -5.453125 -4.90625 -4.96875 -4.546875 -4.53125 -3.796875 L -3.90625 -2.6875 C -2.90625 -0.90625 -2 -0.359375 0 -0.25 L 0 -6.203125 L -1.3125 -6.203125 L -1.3125 -1.75 C -1.875 -1.84375 -2.21875 -2.1875 -2.828125 -3.234375 L -3.484375 -4.421875 C -4.109375 -5.609375 -5.09375 -6.265625 -6.140625 -6.265625 Z M -6.140625 -6.265625 \"/>\n",
       "</symbol>\n",
       "<symbol overflow=\"visible\" id=\"glyph1-2\">\n",
       "<path style=\"stroke:none;\" d=\"M -4.21875 -6.21875 C -7.171875 -6.21875 -8.765625 -5.140625 -8.765625 -3.296875 C -8.765625 -1.46875 -7.15625 -0.375 -4.296875 -0.375 C -1.421875 -0.375 0.1875 -1.46875 0.1875 -3.296875 C 0.1875 -5.09375 -1.421875 -6.21875 -4.21875 -6.21875 Z M -4.3125 -4.859375 C -1.90625 -4.859375 -0.953125 -4.453125 -0.953125 -3.28125 C -0.953125 -2.15625 -1.953125 -1.734375 -4.28125 -1.734375 C -6.609375 -1.734375 -7.578125 -2.15625 -7.578125 -3.296875 C -7.578125 -4.4375 -6.59375 -4.859375 -4.3125 -4.859375 Z M -4.3125 -4.859375 \"/>\n",
       "</symbol>\n",
       "<symbol overflow=\"visible\" id=\"glyph1-3\">\n",
       "<path style=\"stroke:none;\" d=\"M -2.171875 -6.375 L -3.25 -6.375 L -3.25 -5.109375 L -8.765625 -5.109375 L -8.765625 -4.125 L -3.328125 -0.1875 L -2.046875 -0.1875 L -2.046875 -3.78125 L 0 -3.78125 L 0 -5.109375 L -2.046875 -5.109375 L -2.046875 -6.375 Z M -3.25 -3.921875 L -3.25 -1.515625 L -6.75 -4.015625 L -6.84375 -3.78125 L -3.25 -3.78125 Z M -3.25 -3.921875 \"/>\n",
       "</symbol>\n",
       "<symbol overflow=\"visible\" id=\"glyph1-4\">\n",
       "<path style=\"stroke:none;\" d=\"M -2.765625 -6.28125 C -4.359375 -6.28125 -5.5625 -5.078125 -5.5625 -3.546875 C -5.5625 -2.71875 -5.203125 -1.9375 -4.578125 -1.484375 L -4.46875 -1.734375 C -6.546875 -1.734375 -7.578125 -2.28125 -7.578125 -3.484375 C -7.578125 -4.234375 -7.234375 -4.609375 -6.28125 -4.796875 L -6.28125 -6.125 C -7.8125 -5.90625 -8.765625 -4.859375 -8.765625 -3.5625 C -8.765625 -1.578125 -6.96875 -0.375 -4.015625 -0.375 C -1.359375 -0.375 0.1875 -1.421875 0.1875 -3.375 C 0.1875 -4.984375 -1.109375 -6.28125 -2.765625 -6.28125 Z M -2.6875 -4.9375 C -1.625 -4.9375 -1.015625 -4.359375 -1.015625 -3.390625 C -1.015625 -2.40625 -1.65625 -1.78125 -2.75 -1.78125 C -3.796875 -1.78125 -4.359375 -2.375 -4.359375 -3.421875 C -4.359375 -4.4375 -3.828125 -4.9375 -2.6875 -4.9375 Z M -2.6875 -4.9375 \"/>\n",
       "</symbol>\n",
       "<symbol overflow=\"visible\" id=\"glyph1-5\">\n",
       "<path style=\"stroke:none;\" d=\"M -2.53125 -6.28125 C -3.484375 -6.28125 -4.265625 -5.671875 -4.625 -4.953125 C -5.046875 -5.65625 -5.5625 -5.984375 -6.375 -5.984375 C -7.703125 -5.984375 -8.765625 -4.8125 -8.765625 -3.296875 C -8.765625 -1.796875 -7.703125 -0.59375 -6.375 -0.59375 C -5.578125 -0.59375 -5.046875 -0.921875 -4.625 -1.625 C -4.265625 -0.921875 -3.484375 -0.296875 -2.546875 -0.296875 C -0.984375 -0.296875 0.1875 -1.625 0.1875 -3.296875 C 0.1875 -4.984375 -0.984375 -6.28125 -2.53125 -6.28125 Z M -6.34375 -4.625 C -5.5625 -4.625 -5.15625 -4.1875 -5.15625 -3.296875 C -5.15625 -2.40625 -5.5625 -1.953125 -6.359375 -1.953125 C -7.171875 -1.953125 -7.578125 -2.40625 -7.578125 -3.296875 C -7.578125 -4.203125 -7.171875 -4.625 -6.34375 -4.625 Z M -2.515625 -4.9375 C -1.515625 -4.9375 -1.015625 -4.359375 -1.015625 -3.28125 C -1.015625 -2.25 -1.53125 -1.65625 -2.515625 -1.65625 C -3.515625 -1.65625 -4.015625 -2.25 -4.015625 -3.296875 C -4.015625 -4.359375 -3.515625 -4.9375 -2.515625 -4.9375 Z M -2.515625 -4.9375 \"/>\n",
       "</symbol>\n",
       "<symbol overflow=\"visible\" id=\"glyph1-6\">\n",
       "<path style=\"stroke:none;\" d=\"M -6.546875 -5.734375 L -6.546875 -4.5625 L -1.53125 -2.765625 L -1.53125 -3.046875 L -6.546875 -1.390625 L -6.546875 -0.046875 L -0.109375 -2.21875 L 0.890625 -1.84375 C 1.328125 -1.671875 1.375 -1.609375 1.375 -1.171875 C 1.375 -1.03125 1.34375 -0.859375 1.265625 -0.5 L 2.40625 -0.5 C 2.53125 -0.75 2.609375 -1.0625 2.609375 -1.3125 C 2.609375 -2.03125 2.09375 -2.734375 1.1875 -3.078125 L -6.546875 -5.921875 Z M -6.546875 -5.734375 \"/>\n",
       "</symbol>\n",
       "</g>\n",
       "</defs>\n",
       "<g id=\"surface56\">\n",
       "<rect x=\"0\" y=\"0\" width=\"504\" height=\"504\" style=\"fill:rgb(100%,100%,100%);fill-opacity:1;stroke:none;\"/>\n",
       "<path style=\"fill:none;stroke-width:0.75;stroke-linecap:round;stroke-linejoin:round;stroke:rgb(0%,0%,0%);stroke-opacity:1;stroke-miterlimit:10;\" d=\"M 77.101562 416.800781 C 77.101562 420.398438 71.699219 420.398438 71.699219 416.800781 C 71.699219 413.199219 77.101562 413.199219 77.101562 416.800781 \"/>\n",
       "<path style=\"fill:none;stroke-width:0.75;stroke-linecap:round;stroke-linejoin:round;stroke:rgb(0%,0%,0%);stroke-opacity:1;stroke-miterlimit:10;\" d=\"M 125.101562 373.800781 C 125.101562 377.398438 119.699219 377.398438 119.699219 373.800781 C 119.699219 370.199219 125.101562 370.199219 125.101562 373.800781 \"/>\n",
       "<path style=\"fill:none;stroke-width:0.75;stroke-linecap:round;stroke-linejoin:round;stroke:rgb(0%,0%,0%);stroke-opacity:1;stroke-miterlimit:10;\" d=\"M 173.101562 330.800781 C 173.101562 334.398438 167.699219 334.398438 167.699219 330.800781 C 167.699219 327.199219 173.101562 327.199219 173.101562 330.800781 \"/>\n",
       "<path style=\"fill:none;stroke-width:0.75;stroke-linecap:round;stroke-linejoin:round;stroke:rgb(0%,0%,0%);stroke-opacity:1;stroke-miterlimit:10;\" d=\"M 221.101562 287.800781 C 221.101562 291.398438 215.699219 291.398438 215.699219 287.800781 C 215.699219 284.199219 221.101562 284.199219 221.101562 287.800781 \"/>\n",
       "<path style=\"fill:none;stroke-width:0.75;stroke-linecap:round;stroke-linejoin:round;stroke:rgb(0%,0%,0%);stroke-opacity:1;stroke-miterlimit:10;\" d=\"M 269.101562 244.800781 C 269.101562 248.398438 263.699219 248.398438 263.699219 244.800781 C 263.699219 241.199219 269.101562 241.199219 269.101562 244.800781 \"/>\n",
       "<path style=\"fill:none;stroke-width:0.75;stroke-linecap:round;stroke-linejoin:round;stroke:rgb(0%,0%,0%);stroke-opacity:1;stroke-miterlimit:10;\" d=\"M 317.101562 201.800781 C 317.101562 205.398438 311.699219 205.398438 311.699219 201.800781 C 311.699219 198.199219 317.101562 198.199219 317.101562 201.800781 \"/>\n",
       "<path style=\"fill:none;stroke-width:0.75;stroke-linecap:round;stroke-linejoin:round;stroke:rgb(0%,0%,0%);stroke-opacity:1;stroke-miterlimit:10;\" d=\"M 365.101562 158.800781 C 365.101562 162.398438 359.699219 162.398438 359.699219 158.800781 C 359.699219 155.199219 365.101562 155.199219 365.101562 158.800781 \"/>\n",
       "<path style=\"fill:none;stroke-width:0.75;stroke-linecap:round;stroke-linejoin:round;stroke:rgb(0%,0%,0%);stroke-opacity:1;stroke-miterlimit:10;\" d=\"M 413.101562 115.800781 C 413.101562 119.398438 407.699219 119.398438 407.699219 115.800781 C 407.699219 112.199219 413.101562 112.199219 413.101562 115.800781 \"/>\n",
       "<path style=\"fill:none;stroke-width:0.75;stroke-linecap:round;stroke-linejoin:round;stroke:rgb(0%,0%,0%);stroke-opacity:1;stroke-miterlimit:10;\" d=\"M 461.101562 72.800781 C 461.101562 76.398438 455.699219 76.398438 455.699219 72.800781 C 455.699219 69.199219 461.101562 69.199219 461.101562 72.800781 \"/>\n",
       "<path style=\"fill:none;stroke-width:0.75;stroke-linecap:round;stroke-linejoin:round;stroke:rgb(0%,0%,0%);stroke-opacity:1;stroke-miterlimit:10;\" d=\"M 74.398438 430.558594 L 458.398438 430.558594 \"/>\n",
       "<path style=\"fill:none;stroke-width:0.75;stroke-linecap:round;stroke-linejoin:round;stroke:rgb(0%,0%,0%);stroke-opacity:1;stroke-miterlimit:10;\" d=\"M 74.398438 430.558594 L 74.398438 437.761719 \"/>\n",
       "<path style=\"fill:none;stroke-width:0.75;stroke-linecap:round;stroke-linejoin:round;stroke:rgb(0%,0%,0%);stroke-opacity:1;stroke-miterlimit:10;\" d=\"M 170.398438 430.558594 L 170.398438 437.761719 \"/>\n",
       "<path style=\"fill:none;stroke-width:0.75;stroke-linecap:round;stroke-linejoin:round;stroke:rgb(0%,0%,0%);stroke-opacity:1;stroke-miterlimit:10;\" d=\"M 266.398438 430.558594 L 266.398438 437.761719 \"/>\n",
       "<path style=\"fill:none;stroke-width:0.75;stroke-linecap:round;stroke-linejoin:round;stroke:rgb(0%,0%,0%);stroke-opacity:1;stroke-miterlimit:10;\" d=\"M 362.398438 430.558594 L 362.398438 437.761719 \"/>\n",
       "<path style=\"fill:none;stroke-width:0.75;stroke-linecap:round;stroke-linejoin:round;stroke:rgb(0%,0%,0%);stroke-opacity:1;stroke-miterlimit:10;\" d=\"M 458.398438 430.558594 L 458.398438 437.761719 \"/>\n",
       "<g style=\"fill:rgb(0%,0%,0%);fill-opacity:1;\">\n",
       "  <use xlink:href=\"#glyph0-1\" x=\"70.898438\" y=\"456.256836\"/>\n",
       "</g>\n",
       "<g style=\"fill:rgb(0%,0%,0%);fill-opacity:1;\">\n",
       "  <use xlink:href=\"#glyph0-2\" x=\"166.898438\" y=\"456.256836\"/>\n",
       "</g>\n",
       "<g style=\"fill:rgb(0%,0%,0%);fill-opacity:1;\">\n",
       "  <use xlink:href=\"#glyph0-3\" x=\"262.898438\" y=\"456.256836\"/>\n",
       "</g>\n",
       "<g style=\"fill:rgb(0%,0%,0%);fill-opacity:1;\">\n",
       "  <use xlink:href=\"#glyph0-4\" x=\"358.898438\" y=\"456.256836\"/>\n",
       "</g>\n",
       "<g style=\"fill:rgb(0%,0%,0%);fill-opacity:1;\">\n",
       "  <use xlink:href=\"#glyph0-5\" x=\"451.398438\" y=\"456.256836\"/>\n",
       "  <use xlink:href=\"#glyph0-6\" x=\"458.070312\" y=\"456.256836\"/>\n",
       "</g>\n",
       "<path style=\"fill:none;stroke-width:0.75;stroke-linecap:round;stroke-linejoin:round;stroke:rgb(0%,0%,0%);stroke-opacity:1;stroke-miterlimit:10;\" d=\"M 59.039062 416.800781 L 59.039062 72.800781 \"/>\n",
       "<path style=\"fill:none;stroke-width:0.75;stroke-linecap:round;stroke-linejoin:round;stroke:rgb(0%,0%,0%);stroke-opacity:1;stroke-miterlimit:10;\" d=\"M 59.039062 416.800781 L 51.839844 416.800781 \"/>\n",
       "<path style=\"fill:none;stroke-width:0.75;stroke-linecap:round;stroke-linejoin:round;stroke:rgb(0%,0%,0%);stroke-opacity:1;stroke-miterlimit:10;\" d=\"M 59.039062 330.800781 L 51.839844 330.800781 \"/>\n",
       "<path style=\"fill:none;stroke-width:0.75;stroke-linecap:round;stroke-linejoin:round;stroke:rgb(0%,0%,0%);stroke-opacity:1;stroke-miterlimit:10;\" d=\"M 59.039062 244.800781 L 51.839844 244.800781 \"/>\n",
       "<path style=\"fill:none;stroke-width:0.75;stroke-linecap:round;stroke-linejoin:round;stroke:rgb(0%,0%,0%);stroke-opacity:1;stroke-miterlimit:10;\" d=\"M 59.039062 158.800781 L 51.839844 158.800781 \"/>\n",
       "<path style=\"fill:none;stroke-width:0.75;stroke-linecap:round;stroke-linejoin:round;stroke:rgb(0%,0%,0%);stroke-opacity:1;stroke-miterlimit:10;\" d=\"M 59.039062 72.800781 L 51.839844 72.800781 \"/>\n",
       "<g style=\"fill:rgb(0%,0%,0%);fill-opacity:1;\">\n",
       "  <use xlink:href=\"#glyph1-1\" x=\"41.538086\" y=\"423.800781\"/>\n",
       "  <use xlink:href=\"#glyph1-2\" x=\"41.538086\" y=\"417.128906\"/>\n",
       "</g>\n",
       "<g style=\"fill:rgb(0%,0%,0%);fill-opacity:1;\">\n",
       "  <use xlink:href=\"#glyph1-1\" x=\"41.538086\" y=\"337.800781\"/>\n",
       "  <use xlink:href=\"#glyph1-1\" x=\"41.538086\" y=\"331.128906\"/>\n",
       "</g>\n",
       "<g style=\"fill:rgb(0%,0%,0%);fill-opacity:1;\">\n",
       "  <use xlink:href=\"#glyph1-1\" x=\"41.538086\" y=\"251.800781\"/>\n",
       "  <use xlink:href=\"#glyph1-3\" x=\"41.538086\" y=\"245.128906\"/>\n",
       "</g>\n",
       "<g style=\"fill:rgb(0%,0%,0%);fill-opacity:1;\">\n",
       "  <use xlink:href=\"#glyph1-1\" x=\"41.538086\" y=\"165.800781\"/>\n",
       "  <use xlink:href=\"#glyph1-4\" x=\"41.538086\" y=\"159.128906\"/>\n",
       "</g>\n",
       "<g style=\"fill:rgb(0%,0%,0%);fill-opacity:1;\">\n",
       "  <use xlink:href=\"#glyph1-1\" x=\"41.538086\" y=\"79.800781\"/>\n",
       "  <use xlink:href=\"#glyph1-5\" x=\"41.538086\" y=\"73.128906\"/>\n",
       "</g>\n",
       "<path style=\"fill:none;stroke-width:0.75;stroke-linecap:round;stroke-linejoin:round;stroke:rgb(0%,0%,0%);stroke-opacity:1;stroke-miterlimit:10;\" d=\"M 59.039062 430.558594 L 473.761719 430.558594 L 473.761719 59.039062 L 59.039062 59.039062 L 59.039062 430.558594 \"/>\n",
       "<g style=\"fill:rgb(0%,0%,0%);fill-opacity:1;\">\n",
       "  <use xlink:href=\"#glyph0-7\" x=\"263.398438\" y=\"485.057617\"/>\n",
       "</g>\n",
       "<g style=\"fill:rgb(0%,0%,0%);fill-opacity:1;\">\n",
       "  <use xlink:href=\"#glyph1-6\" x=\"12.737305\" y=\"247.800781\"/>\n",
       "</g>\n",
       "</g>\n",
       "</svg>\n"
      ],
      "text/plain": [
       "plot without title"
      ]
     },
     "metadata": {
      "image/svg+xml": {
       "isolated": true
      }
     },
     "output_type": "display_data"
    }
   ],
   "source": [
    "library(ggplot2)\n",
    "x = c(2:10)\n",
    "y = c(20:28)\n",
    "plot(x,y)"
   ]
  },
  {
   "cell_type": "code",
   "execution_count": 3,
   "metadata": {
    "collapsed": false
   },
   "outputs": [
    {
     "data": {
      "text/plain": [
       "\n",
       "\tWelch Two Sample t-test\n",
       "\n",
       "data:  y and x\n",
       "t = 13.943, df = 16, p-value = 2.275e-10\n",
       "alternative hypothesis: true difference in means is not equal to 0\n",
       "95 percent confidence interval:\n",
       " 15.26321 20.73679\n",
       "sample estimates:\n",
       "mean of x mean of y \n",
       "       24         6 \n"
      ]
     },
     "metadata": {},
     "output_type": "display_data"
    }
   ],
   "source": [
    "t.test(y,x)"
   ]
  },
  {
   "cell_type": "code",
   "execution_count": 4,
   "metadata": {
    "collapsed": true
   },
   "outputs": [],
   "source": [
    "library(BEST)"
   ]
  },
  {
   "cell_type": "code",
   "execution_count": 5,
   "metadata": {
    "collapsed": false
   },
   "outputs": [
    {
     "name": "stdout",
     "output_type": "stream",
     "text": [
      "\n",
      "Processing function input....... \n",
      "\n",
      "Done. \n",
      " \n",
      "Compiling model graph\n",
      "   Resolving undeclared variables\n",
      "   Allocating nodes\n",
      "Graph information:\n",
      "   Observed stochastic nodes: 18\n",
      "   Unobserved stochastic nodes: 5\n",
      "   Total graph size: 59\n",
      "\n",
      "Initializing model\n",
      "\n",
      "Adaptive phase, 500 iterations x 3 chains \n",
      "If no progress bar appears JAGS has decided not to adapt \n",
      " \n",
      "\n",
      " Burn-in phase, 1000 iterations x 3 chains \n",
      " \n",
      "\n",
      "Sampling from joint posterior, 33334 iterations x 3 chains \n",
      " \n",
      "\n",
      "MCMC took 0.421 minutes.\n"
     ]
    }
   ],
   "source": [
    "fit = BESTmcmc(x,y)"
   ]
  },
  {
   "cell_type": "code",
   "execution_count": 6,
   "metadata": {
    "collapsed": false
   },
   "outputs": [
    {
     "data": {
      "text/html": [
       "<table>\n",
       "<thead><tr><th></th><th scope=col>mean</th><th scope=col>median</th><th scope=col>mode</th><th scope=col>HDI%</th><th scope=col>HDIlo</th><th scope=col>HDIup</th><th scope=col>compVal</th><th scope=col>%&gt;compVal</th><th scope=col>ROPElow</th><th scope=col>ROPEhigh</th><th scope=col>%InROPE</th></tr></thead>\n",
       "<tbody>\n",
       "\t<tr><th scope=row>mu1</th><td> 6.004348</td><td> 5.999519</td><td> 5.960055</td><td>95.000000</td><td> 3.727505</td><td> 8.409576</td><td>       NA</td><td>       NA</td><td>       NA</td><td>       NA</td><td>       NA</td></tr>\n",
       "\t<tr><th scope=row>mu2</th><td>24.00356</td><td>24.00528</td><td>24.00176</td><td>95.00000</td><td>21.70195</td><td>26.32644</td><td>      NA</td><td>      NA</td><td>      NA</td><td>      NA</td><td>      NA</td></tr>\n",
       "\t<tr><th scope=row>muDiff</th><td>-17.99921</td><td>-18.00694</td><td>-18.06242</td><td> 95.00000</td><td>-21.28248</td><td>-14.72319</td><td>  0.00000</td><td>  0.00000</td><td>       NA</td><td>       NA</td><td>       NA</td></tr>\n",
       "\t<tr><th scope=row>sigma1</th><td> 3.223977</td><td> 3.016891</td><td> 2.714214</td><td>95.000000</td><td> 1.595298</td><td> 5.295719</td><td>       NA</td><td>       NA</td><td>       NA</td><td>       NA</td><td>       NA</td></tr>\n",
       "\t<tr><th scope=row>sigma2</th><td> 3.221086</td><td> 3.009757</td><td> 2.644264</td><td>95.000000</td><td> 1.605947</td><td> 5.299272</td><td>       NA</td><td>       NA</td><td>       NA</td><td>       NA</td><td>       NA</td></tr>\n",
       "\t<tr><th scope=row>sigmaDiff</th><td> 0.002891344</td><td> 0.006700983</td><td> 0.027793532</td><td>95.000000000</td><td>-3.014443474</td><td> 3.002864074</td><td> 0.000000000</td><td>50.254994900</td><td>          NA</td><td>          NA</td><td>          NA</td></tr>\n",
       "\t<tr><th scope=row>nu</th><td>36.225021</td><td>27.758715</td><td>12.196370</td><td>95.000000</td><td> 1.398011</td><td>95.785652</td><td>       NA</td><td>       NA</td><td>       NA</td><td>       NA</td><td>       NA</td></tr>\n",
       "\t<tr><th scope=row>log10nu</th><td> 1.4134476</td><td> 1.4433994</td><td> 1.5048708</td><td>95.0000000</td><td> 0.6649192</td><td> 2.1043828</td><td>        NA</td><td>        NA</td><td>        NA</td><td>        NA</td><td>        NA</td></tr>\n",
       "\t<tr><th scope=row>effSz</th><td>-5.765855</td><td>-5.722153</td><td>-5.768555</td><td>95.000000</td><td>-8.442854</td><td>-3.071529</td><td> 0.000000</td><td> 0.000000</td><td>       NA</td><td>       NA</td><td>       NA</td></tr>\n",
       "</tbody>\n",
       "</table>\n"
      ],
      "text/latex": [
       "\\begin{tabular}{r|lllllllllll}\n",
       "  & mean & median & mode & HDI\\% & HDIlo & HDIup & compVal & \\%>compVal & ROPElow & ROPEhigh & \\%InROPE\\\\\n",
       "\\hline\n",
       "\tmu1 &  6.004348 &  5.999519 &  5.960055 & 95.000000 &  3.727505 &  8.409576 &        NA &        NA &        NA &        NA &        NA\\\\\n",
       "\tmu2 & 24.00356 & 24.00528 & 24.00176 & 95.00000 & 21.70195 & 26.32644 &       NA &       NA &       NA &       NA &       NA\\\\\n",
       "\tmuDiff & -17.99921 & -18.00694 & -18.06242 &  95.00000 & -21.28248 & -14.72319 &   0.00000 &   0.00000 &        NA &        NA &        NA\\\\\n",
       "\tsigma1 &  3.223977 &  3.016891 &  2.714214 & 95.000000 &  1.595298 &  5.295719 &        NA &        NA &        NA &        NA &        NA\\\\\n",
       "\tsigma2 &  3.221086 &  3.009757 &  2.644264 & 95.000000 &  1.605947 &  5.299272 &        NA &        NA &        NA &        NA &        NA\\\\\n",
       "\tsigmaDiff &  0.002891344 &  0.006700983 &  0.027793532 & 95.000000000 & -3.014443474 &  3.002864074 &  0.000000000 & 50.254994900 &           NA &           NA &           NA\\\\\n",
       "\tnu & 36.225021 & 27.758715 & 12.196370 & 95.000000 &  1.398011 & 95.785652 &        NA &        NA &        NA &        NA &        NA\\\\\n",
       "\tlog10nu &  1.4134476 &  1.4433994 &  1.5048708 & 95.0000000 &  0.6649192 &  2.1043828 &         NA &         NA &         NA &         NA &         NA\\\\\n",
       "\teffSz & -5.765855 & -5.722153 & -5.768555 & 95.000000 & -8.442854 & -3.071529 &  0.000000 &  0.000000 &        NA &        NA &        NA\\\\\n",
       "\\end{tabular}\n"
      ],
      "text/plain": [
       "               mean   median     mode HDI%   HDIlo  HDIup compVal %>compVal\n",
       "mu1         6.00435   5.9995   5.9601   95   3.728   8.41                  \n",
       "mu2        24.00356  24.0053  24.0018   95  21.702  26.33                  \n",
       "muDiff    -17.99921 -18.0069 -18.0624   95 -21.282 -14.72       0       0.0\n",
       "sigma1      3.22398   3.0169   2.7142   95   1.595   5.30                  \n",
       "sigma2      3.22109   3.0098   2.6443   95   1.606   5.30                  \n",
       "sigmaDiff   0.00289   0.0067   0.0278   95  -3.014   3.00       0      50.3\n",
       "nu         36.22502  27.7587  12.1964   95   1.398  95.79                  \n",
       "log10nu     1.41345   1.4434   1.5049   95   0.665   2.10                  \n",
       "effSz      -5.76585  -5.7222  -5.7686   95  -8.443  -3.07       0       0.0"
      ]
     },
     "metadata": {},
     "output_type": "display_data"
    }
   ],
   "source": [
    "summary(fit)"
   ]
  },
  {
   "cell_type": "code",
   "execution_count": null,
   "metadata": {
    "collapsed": true
   },
   "outputs": [],
   "source": []
  }
 ],
 "metadata": {
  "kernelspec": {
   "display_name": "R",
   "language": "R",
   "name": "ir"
  },
  "language_info": {
   "codemirror_mode": "r",
   "file_extension": ".r",
   "mimetype": "text/x-r-source",
   "name": "R",
   "pygments_lexer": "r",
   "version": "3.2.3"
  }
 },
 "nbformat": 4,
 "nbformat_minor": 0
}
